{
  "nbformat": 4,
  "nbformat_minor": 0,
  "metadata": {
    "colab": {
      "name": "Day 1 of 100.ipynb",
      "provenance": [],
      "authorship_tag": "ABX9TyMVV8iw5XBXtmSSz9ZV87+d",
      "include_colab_link": true
    },
    "kernelspec": {
      "name": "python3",
      "display_name": "Python 3"
    },
    "language_info": {
      "name": "python"
    }
  },
  "cells": [
    {
      "cell_type": "markdown",
      "metadata": {
        "id": "view-in-github",
        "colab_type": "text"
      },
      "source": [
        "<a href=\"https://colab.research.google.com/github/DivyaRajendranath/GA_Projects/blob/master/Day_1_of_100.ipynb\" target=\"_parent\"><img src=\"https://colab.research.google.com/assets/colab-badge.svg\" alt=\"Open In Colab\"/></a>"
      ]
    },
    {
      "cell_type": "code",
      "metadata": {
        "colab": {
          "base_uri": "https://localhost:8080/"
        },
        "id": "d7P0qz1KpqSX",
        "outputId": "a5176145-81bb-40b9-abf4-5a33e48db60e"
      },
      "source": [
        "!pip install tensorflow\n"
      ],
      "execution_count": 1,
      "outputs": [
        {
          "output_type": "stream",
          "text": [
            "Requirement already satisfied: tensorflow in /usr/local/lib/python3.7/dist-packages (2.4.1)\n",
            "Requirement already satisfied: h5py~=2.10.0 in /usr/local/lib/python3.7/dist-packages (from tensorflow) (2.10.0)\n",
            "Requirement already satisfied: gast==0.3.3 in /usr/local/lib/python3.7/dist-packages (from tensorflow) (0.3.3)\n",
            "Requirement already satisfied: astunparse~=1.6.3 in /usr/local/lib/python3.7/dist-packages (from tensorflow) (1.6.3)\n",
            "Requirement already satisfied: typing-extensions~=3.7.4 in /usr/local/lib/python3.7/dist-packages (from tensorflow) (3.7.4.3)\n",
            "Requirement already satisfied: wheel~=0.35 in /usr/local/lib/python3.7/dist-packages (from tensorflow) (0.36.2)\n",
            "Requirement already satisfied: tensorflow-estimator<2.5.0,>=2.4.0 in /usr/local/lib/python3.7/dist-packages (from tensorflow) (2.4.0)\n",
            "Requirement already satisfied: keras-preprocessing~=1.1.2 in /usr/local/lib/python3.7/dist-packages (from tensorflow) (1.1.2)\n",
            "Requirement already satisfied: tensorboard~=2.4 in /usr/local/lib/python3.7/dist-packages (from tensorflow) (2.4.1)\n",
            "Requirement already satisfied: google-pasta~=0.2 in /usr/local/lib/python3.7/dist-packages (from tensorflow) (0.2.0)\n",
            "Requirement already satisfied: opt-einsum~=3.3.0 in /usr/local/lib/python3.7/dist-packages (from tensorflow) (3.3.0)\n",
            "Requirement already satisfied: numpy~=1.19.2 in /usr/local/lib/python3.7/dist-packages (from tensorflow) (1.19.5)\n",
            "Requirement already satisfied: flatbuffers~=1.12.0 in /usr/local/lib/python3.7/dist-packages (from tensorflow) (1.12)\n",
            "Requirement already satisfied: termcolor~=1.1.0 in /usr/local/lib/python3.7/dist-packages (from tensorflow) (1.1.0)\n",
            "Requirement already satisfied: wrapt~=1.12.1 in /usr/local/lib/python3.7/dist-packages (from tensorflow) (1.12.1)\n",
            "Requirement already satisfied: six~=1.15.0 in /usr/local/lib/python3.7/dist-packages (from tensorflow) (1.15.0)\n",
            "Requirement already satisfied: absl-py~=0.10 in /usr/local/lib/python3.7/dist-packages (from tensorflow) (0.10.0)\n",
            "Requirement already satisfied: protobuf>=3.9.2 in /usr/local/lib/python3.7/dist-packages (from tensorflow) (3.12.4)\n",
            "Requirement already satisfied: grpcio~=1.32.0 in /usr/local/lib/python3.7/dist-packages (from tensorflow) (1.32.0)\n",
            "Requirement already satisfied: requests<3,>=2.21.0 in /usr/local/lib/python3.7/dist-packages (from tensorboard~=2.4->tensorflow) (2.23.0)\n",
            "Requirement already satisfied: google-auth<2,>=1.6.3 in /usr/local/lib/python3.7/dist-packages (from tensorboard~=2.4->tensorflow) (1.27.1)\n",
            "Requirement already satisfied: tensorboard-plugin-wit>=1.6.0 in /usr/local/lib/python3.7/dist-packages (from tensorboard~=2.4->tensorflow) (1.8.0)\n",
            "Requirement already satisfied: setuptools>=41.0.0 in /usr/local/lib/python3.7/dist-packages (from tensorboard~=2.4->tensorflow) (54.1.2)\n",
            "Requirement already satisfied: werkzeug>=0.11.15 in /usr/local/lib/python3.7/dist-packages (from tensorboard~=2.4->tensorflow) (1.0.1)\n",
            "Requirement already satisfied: google-auth-oauthlib<0.5,>=0.4.1 in /usr/local/lib/python3.7/dist-packages (from tensorboard~=2.4->tensorflow) (0.4.3)\n",
            "Requirement already satisfied: markdown>=2.6.8 in /usr/local/lib/python3.7/dist-packages (from tensorboard~=2.4->tensorflow) (3.3.4)\n",
            "Requirement already satisfied: certifi>=2017.4.17 in /usr/local/lib/python3.7/dist-packages (from requests<3,>=2.21.0->tensorboard~=2.4->tensorflow) (2020.12.5)\n",
            "Requirement already satisfied: chardet<4,>=3.0.2 in /usr/local/lib/python3.7/dist-packages (from requests<3,>=2.21.0->tensorboard~=2.4->tensorflow) (3.0.4)\n",
            "Requirement already satisfied: idna<3,>=2.5 in /usr/local/lib/python3.7/dist-packages (from requests<3,>=2.21.0->tensorboard~=2.4->tensorflow) (2.10)\n",
            "Requirement already satisfied: urllib3!=1.25.0,!=1.25.1,<1.26,>=1.21.1 in /usr/local/lib/python3.7/dist-packages (from requests<3,>=2.21.0->tensorboard~=2.4->tensorflow) (1.24.3)\n",
            "Requirement already satisfied: rsa<5,>=3.1.4; python_version >= \"3.6\" in /usr/local/lib/python3.7/dist-packages (from google-auth<2,>=1.6.3->tensorboard~=2.4->tensorflow) (4.7.2)\n",
            "Requirement already satisfied: cachetools<5.0,>=2.0.0 in /usr/local/lib/python3.7/dist-packages (from google-auth<2,>=1.6.3->tensorboard~=2.4->tensorflow) (4.2.1)\n",
            "Requirement already satisfied: pyasn1-modules>=0.2.1 in /usr/local/lib/python3.7/dist-packages (from google-auth<2,>=1.6.3->tensorboard~=2.4->tensorflow) (0.2.8)\n",
            "Requirement already satisfied: requests-oauthlib>=0.7.0 in /usr/local/lib/python3.7/dist-packages (from google-auth-oauthlib<0.5,>=0.4.1->tensorboard~=2.4->tensorflow) (1.3.0)\n",
            "Requirement already satisfied: importlib-metadata; python_version < \"3.8\" in /usr/local/lib/python3.7/dist-packages (from markdown>=2.6.8->tensorboard~=2.4->tensorflow) (3.7.2)\n",
            "Requirement already satisfied: pyasn1>=0.1.3 in /usr/local/lib/python3.7/dist-packages (from rsa<5,>=3.1.4; python_version >= \"3.6\"->google-auth<2,>=1.6.3->tensorboard~=2.4->tensorflow) (0.4.8)\n",
            "Requirement already satisfied: oauthlib>=3.0.0 in /usr/local/lib/python3.7/dist-packages (from requests-oauthlib>=0.7.0->google-auth-oauthlib<0.5,>=0.4.1->tensorboard~=2.4->tensorflow) (3.1.0)\n",
            "Requirement already satisfied: zipp>=0.5 in /usr/local/lib/python3.7/dist-packages (from importlib-metadata; python_version < \"3.8\"->markdown>=2.6.8->tensorboard~=2.4->tensorflow) (3.4.1)\n"
          ],
          "name": "stdout"
        }
      ]
    },
    {
      "cell_type": "code",
      "metadata": {
        "colab": {
          "base_uri": "https://localhost:8080/"
        },
        "id": "40Jmg554qLjo",
        "outputId": "92b91209-4577-4d92-d27c-efec1270b51d"
      },
      "source": [
        "import tensorflow as tf\n",
        "print(tf.__version__)"
      ],
      "execution_count": 4,
      "outputs": [
        {
          "output_type": "stream",
          "text": [
            "2.4.1\n"
          ],
          "name": "stdout"
        }
      ]
    },
    {
      "cell_type": "code",
      "metadata": {
        "id": "CrmCChdAxpvr"
      },
      "source": [
        "import pandas as pd\n",
        "import numpy as np\n",
        "from sklearn.model_selection import train_test_split\n",
        "data = pd.read_csv(\"breast_cancer_data.csv\")\n",
        "data.head(10)\n",
        "X = data.drop(columns = ['id','diagnosis'])\n",
        "y = data.diagnosis\n",
        "X_train, X_test, y_train, y_test = train_test_split(X, y, test_size = 0.20, random_state = 42)"
      ],
      "execution_count": 6,
      "outputs": []
    },
    {
      "cell_type": "code",
      "metadata": {
        "colab": {
          "base_uri": "https://localhost:8080/",
          "height": 232
        },
        "id": "3gVLwiZk0pQC",
        "outputId": "a05b0902-8169-423a-88c1-4204289ab891"
      },
      "source": [
        "X_train.head(5)"
      ],
      "execution_count": 7,
      "outputs": [
        {
          "output_type": "execute_result",
          "data": {
            "text/html": [
              "<div>\n",
              "<style scoped>\n",
              "    .dataframe tbody tr th:only-of-type {\n",
              "        vertical-align: middle;\n",
              "    }\n",
              "\n",
              "    .dataframe tbody tr th {\n",
              "        vertical-align: top;\n",
              "    }\n",
              "\n",
              "    .dataframe thead th {\n",
              "        text-align: right;\n",
              "    }\n",
              "</style>\n",
              "<table border=\"1\" class=\"dataframe\">\n",
              "  <thead>\n",
              "    <tr style=\"text-align: right;\">\n",
              "      <th></th>\n",
              "      <th>radius_mean</th>\n",
              "      <th>texture_mean</th>\n",
              "      <th>perimeter_mean</th>\n",
              "      <th>area_mean</th>\n",
              "      <th>smoothness_mean</th>\n",
              "      <th>compactness_mean</th>\n",
              "      <th>concavity_mean</th>\n",
              "      <th>concave points_mean</th>\n",
              "      <th>symmetry_mean</th>\n",
              "      <th>fractal_dimension_mean</th>\n",
              "      <th>radius_se</th>\n",
              "      <th>texture_se</th>\n",
              "      <th>perimeter_se</th>\n",
              "      <th>area_se</th>\n",
              "      <th>smoothness_se</th>\n",
              "      <th>compactness_se</th>\n",
              "      <th>concavity_se</th>\n",
              "      <th>concave points_se</th>\n",
              "      <th>symmetry_se</th>\n",
              "      <th>fractal_dimension_se</th>\n",
              "      <th>radius_worst</th>\n",
              "      <th>texture_worst</th>\n",
              "      <th>perimeter_worst</th>\n",
              "      <th>area_worst</th>\n",
              "      <th>smoothness_worst</th>\n",
              "      <th>compactness_worst</th>\n",
              "      <th>concavity_worst</th>\n",
              "      <th>concave points_worst</th>\n",
              "      <th>symmetry_worst</th>\n",
              "      <th>fractal_dimension_worst</th>\n",
              "    </tr>\n",
              "  </thead>\n",
              "  <tbody>\n",
              "    <tr>\n",
              "      <th>68</th>\n",
              "      <td>9.029</td>\n",
              "      <td>17.33</td>\n",
              "      <td>58.79</td>\n",
              "      <td>250.5</td>\n",
              "      <td>0.10660</td>\n",
              "      <td>0.14130</td>\n",
              "      <td>0.31300</td>\n",
              "      <td>0.04375</td>\n",
              "      <td>0.2111</td>\n",
              "      <td>0.08046</td>\n",
              "      <td>0.3274</td>\n",
              "      <td>1.1940</td>\n",
              "      <td>1.885</td>\n",
              "      <td>17.67</td>\n",
              "      <td>0.009549</td>\n",
              "      <td>0.08606</td>\n",
              "      <td>0.303800</td>\n",
              "      <td>0.033220</td>\n",
              "      <td>0.04197</td>\n",
              "      <td>0.009559</td>\n",
              "      <td>10.31</td>\n",
              "      <td>22.65</td>\n",
              "      <td>65.50</td>\n",
              "      <td>324.7</td>\n",
              "      <td>0.14820</td>\n",
              "      <td>0.43650</td>\n",
              "      <td>1.25200</td>\n",
              "      <td>0.17500</td>\n",
              "      <td>0.4228</td>\n",
              "      <td>0.11750</td>\n",
              "    </tr>\n",
              "    <tr>\n",
              "      <th>181</th>\n",
              "      <td>21.090</td>\n",
              "      <td>26.57</td>\n",
              "      <td>142.70</td>\n",
              "      <td>1311.0</td>\n",
              "      <td>0.11410</td>\n",
              "      <td>0.28320</td>\n",
              "      <td>0.24870</td>\n",
              "      <td>0.14960</td>\n",
              "      <td>0.2395</td>\n",
              "      <td>0.07398</td>\n",
              "      <td>0.6298</td>\n",
              "      <td>0.7629</td>\n",
              "      <td>4.414</td>\n",
              "      <td>81.46</td>\n",
              "      <td>0.004253</td>\n",
              "      <td>0.04759</td>\n",
              "      <td>0.038720</td>\n",
              "      <td>0.015670</td>\n",
              "      <td>0.01798</td>\n",
              "      <td>0.005295</td>\n",
              "      <td>26.68</td>\n",
              "      <td>33.48</td>\n",
              "      <td>176.50</td>\n",
              "      <td>2089.0</td>\n",
              "      <td>0.14910</td>\n",
              "      <td>0.75840</td>\n",
              "      <td>0.67800</td>\n",
              "      <td>0.29030</td>\n",
              "      <td>0.4098</td>\n",
              "      <td>0.12840</td>\n",
              "    </tr>\n",
              "    <tr>\n",
              "      <th>63</th>\n",
              "      <td>9.173</td>\n",
              "      <td>13.86</td>\n",
              "      <td>59.20</td>\n",
              "      <td>260.9</td>\n",
              "      <td>0.07721</td>\n",
              "      <td>0.08751</td>\n",
              "      <td>0.05988</td>\n",
              "      <td>0.02180</td>\n",
              "      <td>0.2341</td>\n",
              "      <td>0.06963</td>\n",
              "      <td>0.4098</td>\n",
              "      <td>2.2650</td>\n",
              "      <td>2.608</td>\n",
              "      <td>23.52</td>\n",
              "      <td>0.008738</td>\n",
              "      <td>0.03938</td>\n",
              "      <td>0.043120</td>\n",
              "      <td>0.015600</td>\n",
              "      <td>0.04192</td>\n",
              "      <td>0.005822</td>\n",
              "      <td>10.01</td>\n",
              "      <td>19.23</td>\n",
              "      <td>65.59</td>\n",
              "      <td>310.1</td>\n",
              "      <td>0.09836</td>\n",
              "      <td>0.16780</td>\n",
              "      <td>0.13970</td>\n",
              "      <td>0.05087</td>\n",
              "      <td>0.3282</td>\n",
              "      <td>0.08490</td>\n",
              "    </tr>\n",
              "    <tr>\n",
              "      <th>248</th>\n",
              "      <td>10.650</td>\n",
              "      <td>25.22</td>\n",
              "      <td>68.01</td>\n",
              "      <td>347.0</td>\n",
              "      <td>0.09657</td>\n",
              "      <td>0.07234</td>\n",
              "      <td>0.02379</td>\n",
              "      <td>0.01615</td>\n",
              "      <td>0.1897</td>\n",
              "      <td>0.06329</td>\n",
              "      <td>0.2497</td>\n",
              "      <td>1.4930</td>\n",
              "      <td>1.497</td>\n",
              "      <td>16.64</td>\n",
              "      <td>0.007189</td>\n",
              "      <td>0.01035</td>\n",
              "      <td>0.010810</td>\n",
              "      <td>0.006245</td>\n",
              "      <td>0.02158</td>\n",
              "      <td>0.002619</td>\n",
              "      <td>12.25</td>\n",
              "      <td>35.19</td>\n",
              "      <td>77.98</td>\n",
              "      <td>455.7</td>\n",
              "      <td>0.14990</td>\n",
              "      <td>0.13980</td>\n",
              "      <td>0.11250</td>\n",
              "      <td>0.06136</td>\n",
              "      <td>0.3409</td>\n",
              "      <td>0.08147</td>\n",
              "    </tr>\n",
              "    <tr>\n",
              "      <th>60</th>\n",
              "      <td>10.170</td>\n",
              "      <td>14.88</td>\n",
              "      <td>64.55</td>\n",
              "      <td>311.9</td>\n",
              "      <td>0.11340</td>\n",
              "      <td>0.08061</td>\n",
              "      <td>0.01084</td>\n",
              "      <td>0.01290</td>\n",
              "      <td>0.2743</td>\n",
              "      <td>0.06960</td>\n",
              "      <td>0.5158</td>\n",
              "      <td>1.4410</td>\n",
              "      <td>3.312</td>\n",
              "      <td>34.62</td>\n",
              "      <td>0.007514</td>\n",
              "      <td>0.01099</td>\n",
              "      <td>0.007665</td>\n",
              "      <td>0.008193</td>\n",
              "      <td>0.04183</td>\n",
              "      <td>0.005953</td>\n",
              "      <td>11.02</td>\n",
              "      <td>17.45</td>\n",
              "      <td>69.86</td>\n",
              "      <td>368.6</td>\n",
              "      <td>0.12750</td>\n",
              "      <td>0.09866</td>\n",
              "      <td>0.02168</td>\n",
              "      <td>0.02579</td>\n",
              "      <td>0.3557</td>\n",
              "      <td>0.08020</td>\n",
              "    </tr>\n",
              "  </tbody>\n",
              "</table>\n",
              "</div>"
            ],
            "text/plain": [
              "     radius_mean  texture_mean  ...  symmetry_worst  fractal_dimension_worst\n",
              "68         9.029         17.33  ...          0.4228                  0.11750\n",
              "181       21.090         26.57  ...          0.4098                  0.12840\n",
              "63         9.173         13.86  ...          0.3282                  0.08490\n",
              "248       10.650         25.22  ...          0.3409                  0.08147\n",
              "60        10.170         14.88  ...          0.3557                  0.08020\n",
              "\n",
              "[5 rows x 30 columns]"
            ]
          },
          "metadata": {
            "tags": []
          },
          "execution_count": 7
        }
      ]
    },
    {
      "cell_type": "code",
      "metadata": {
        "colab": {
          "base_uri": "https://localhost:8080/"
        },
        "id": "aTB_ZerM1-0S",
        "outputId": "e0f8818c-5d8a-43c9-c27f-53ed5455d5f8"
      },
      "source": [
        "y_train.head(5)"
      ],
      "execution_count": 24,
      "outputs": [
        {
          "output_type": "execute_result",
          "data": {
            "text/plain": [
              "68     0\n",
              "181    1\n",
              "63     0\n",
              "248    0\n",
              "60     0\n",
              "Name: diagnosis, dtype: object"
            ]
          },
          "metadata": {
            "tags": []
          },
          "execution_count": 24
        }
      ]
    },
    {
      "cell_type": "code",
      "metadata": {
        "colab": {
          "base_uri": "https://localhost:8080/"
        },
        "id": "WfILtFaxAfIX",
        "outputId": "d2c9df83-91c1-4ddb-9484-1c989e3e7145"
      },
      "source": [
        "y_train.dtypes"
      ],
      "execution_count": 25,
      "outputs": [
        {
          "output_type": "execute_result",
          "data": {
            "text/plain": [
              "dtype('O')"
            ]
          },
          "metadata": {
            "tags": []
          },
          "execution_count": 25
        }
      ]
    },
    {
      "cell_type": "code",
      "metadata": {
        "colab": {
          "base_uri": "https://localhost:8080/"
        },
        "id": "T8iCdRkV-Y5X",
        "outputId": "6ed91535-4743-4093-9f47-9df9e43dfbb4"
      },
      "source": [
        "y_train.describe()"
      ],
      "execution_count": 26,
      "outputs": [
        {
          "output_type": "execute_result",
          "data": {
            "text/plain": [
              "count     455\n",
              "unique      2\n",
              "top         0\n",
              "freq      286\n",
              "Name: diagnosis, dtype: object"
            ]
          },
          "metadata": {
            "tags": []
          },
          "execution_count": 26
        }
      ]
    },
    {
      "cell_type": "code",
      "metadata": {
        "colab": {
          "base_uri": "https://localhost:8080/"
        },
        "id": "WJQcEYSYAB3G",
        "outputId": "e2d85c3c-c492-456e-bfa5-d85c74a97aa8"
      },
      "source": [
        "y_train.value_counts()"
      ],
      "execution_count": 27,
      "outputs": [
        {
          "output_type": "execute_result",
          "data": {
            "text/plain": [
              "0    286\n",
              "1    169\n",
              "Name: diagnosis, dtype: int64"
            ]
          },
          "metadata": {
            "tags": []
          },
          "execution_count": 27
        }
      ]
    },
    {
      "cell_type": "code",
      "metadata": {
        "id": "MhtSOqbi_o84"
      },
      "source": [
        "y_train = y_train.replace('B','0')\n",
        "y_train = y_train.replace('M','1')"
      ],
      "execution_count": 23,
      "outputs": []
    },
    {
      "cell_type": "code",
      "metadata": {
        "id": "DRRPRNJ8At0D"
      },
      "source": [
        "y_test = y_test.replace('B','0')\n",
        "y_test = y_test.replace('M','1')"
      ],
      "execution_count": 28,
      "outputs": []
    },
    {
      "cell_type": "code",
      "metadata": {
        "colab": {
          "base_uri": "https://localhost:8080/"
        },
        "id": "U_DFmBUBA1tr",
        "outputId": "563afb49-3c65-4394-ed5a-1fc32fc460c4"
      },
      "source": [
        "y_test.value_counts()"
      ],
      "execution_count": 29,
      "outputs": [
        {
          "output_type": "execute_result",
          "data": {
            "text/plain": [
              "0    71\n",
              "1    43\n",
              "Name: diagnosis, dtype: int64"
            ]
          },
          "metadata": {
            "tags": []
          },
          "execution_count": 29
        }
      ]
    },
    {
      "cell_type": "code",
      "metadata": {
        "colab": {
          "base_uri": "https://localhost:8080/"
        },
        "id": "OBzFkS0hCmng",
        "outputId": "4cbac558-4be2-48c0-9d09-5e93893a7733"
      },
      "source": [
        "y_test.values"
      ],
      "execution_count": 49,
      "outputs": [
        {
          "output_type": "execute_result",
          "data": {
            "text/plain": [
              "array([0, 1, 1, 0, 0, 1, 1, 1, 0, 0, 0, 1, 0, 1, 0, 1, 0, 0, 0, 1, 1, 0,\n",
              "       1, 0, 0, 0, 0, 0, 0, 1, 0, 0, 0, 0, 0, 0, 1, 0, 1, 0, 0, 1, 0, 0,\n",
              "       0, 0, 0, 0, 0, 0, 1, 1, 0, 0, 0, 0, 0, 1, 1, 0, 0, 1, 1, 0, 0, 0,\n",
              "       1, 1, 0, 0, 1, 1, 0, 1, 0, 0, 0, 1, 0, 0, 1, 0, 1, 1, 1, 1, 1, 1,\n",
              "       0, 0, 0, 0, 0, 0, 0, 0, 1, 1, 0, 1, 1, 0, 1, 1, 0, 0, 0, 1, 0, 0,\n",
              "       1, 0, 0, 1])"
            ]
          },
          "metadata": {
            "tags": []
          },
          "execution_count": 49
        }
      ]
    },
    {
      "cell_type": "code",
      "metadata": {
        "id": "dxHAqK3DC1GH"
      },
      "source": [
        "y_test = y_test.astype('int')"
      ],
      "execution_count": 48,
      "outputs": []
    },
    {
      "cell_type": "code",
      "metadata": {
        "id": "nhrBjKUyDFSN"
      },
      "source": [
        "y_train = y_train.astype('int')"
      ],
      "execution_count": 50,
      "outputs": []
    },
    {
      "cell_type": "code",
      "metadata": {
        "colab": {
          "base_uri": "https://localhost:8080/"
        },
        "id": "pg9TdcqnDI8U",
        "outputId": "4e6554e5-6ad4-4a3e-9813-f3e70e481cfe"
      },
      "source": [
        "y_train.values"
      ],
      "execution_count": 51,
      "outputs": [
        {
          "output_type": "execute_result",
          "data": {
            "text/plain": [
              "array([0, 1, 0, 0, 0, 1, 0, 0, 0, 1, 0, 1, 1, 0, 0, 1, 1, 1, 0, 0, 0, 1,\n",
              "       0, 0, 0, 1, 0, 1, 0, 0, 1, 0, 1, 1, 1, 0, 1, 0, 0, 0, 0, 1, 1, 0,\n",
              "       0, 0, 0, 0, 0, 0, 1, 0, 0, 0, 0, 1, 0, 0, 0, 0, 0, 0, 1, 0, 0, 0,\n",
              "       0, 0, 0, 1, 1, 1, 0, 0, 1, 0, 1, 0, 0, 0, 0, 1, 0, 0, 1, 0, 0, 0,\n",
              "       1, 0, 1, 1, 0, 0, 0, 1, 0, 0, 0, 0, 1, 0, 0, 0, 0, 0, 1, 0, 1, 1,\n",
              "       0, 0, 1, 0, 0, 0, 0, 0, 0, 0, 1, 1, 1, 0, 0, 1, 0, 0, 1, 0, 1, 0,\n",
              "       1, 0, 1, 0, 0, 1, 0, 0, 0, 1, 0, 1, 0, 1, 0, 1, 0, 0, 1, 0, 0, 0,\n",
              "       0, 1, 0, 0, 0, 1, 0, 0, 1, 0, 0, 1, 0, 0, 0, 0, 0, 0, 0, 1, 0, 0,\n",
              "       0, 1, 0, 1, 0, 0, 0, 1, 0, 1, 1, 0, 0, 1, 0, 1, 1, 1, 0, 0, 0, 1,\n",
              "       0, 0, 1, 0, 1, 0, 0, 0, 1, 0, 1, 0, 0, 1, 1, 0, 0, 1, 0, 1, 1, 0,\n",
              "       1, 1, 0, 0, 1, 1, 1, 0, 0, 0, 0, 1, 0, 1, 1, 1, 1, 0, 0, 0, 0, 0,\n",
              "       0, 0, 0, 1, 1, 0, 0, 1, 0, 0, 0, 0, 0, 1, 0, 0, 1, 1, 0, 1, 0, 1,\n",
              "       0, 0, 0, 0, 0, 0, 1, 0, 0, 1, 0, 0, 0, 0, 0, 0, 1, 0, 0, 1, 0, 1,\n",
              "       1, 1, 0, 1, 0, 0, 1, 1, 1, 0, 0, 0, 0, 0, 0, 0, 1, 0, 0, 0, 1, 0,\n",
              "       0, 1, 1, 0, 1, 0, 1, 1, 0, 0, 1, 0, 1, 1, 0, 1, 1, 0, 0, 1, 0, 1,\n",
              "       0, 0, 1, 0, 0, 1, 1, 1, 0, 0, 0, 1, 1, 0, 1, 1, 0, 0, 0, 1, 0, 1,\n",
              "       1, 1, 1, 0, 0, 1, 0, 0, 1, 1, 1, 1, 1, 1, 0, 0, 0, 0, 0, 0, 0, 1,\n",
              "       1, 1, 1, 0, 0, 0, 0, 1, 0, 1, 0, 0, 0, 0, 0, 1, 1, 1, 0, 0, 1, 0,\n",
              "       0, 1, 1, 1, 1, 0, 0, 1, 1, 0, 0, 0, 1, 1, 1, 0, 0, 1, 0, 0, 0, 0,\n",
              "       1, 0, 0, 0, 0, 0, 0, 0, 0, 0, 1, 0, 0, 0, 0, 0, 0, 1, 0, 0, 1, 0,\n",
              "       0, 1, 1, 1, 0, 1, 1, 0, 1, 0, 0, 0, 0, 1, 0])"
            ]
          },
          "metadata": {
            "tags": []
          },
          "execution_count": 51
        }
      ]
    },
    {
      "cell_type": "code",
      "metadata": {
        "colab": {
          "base_uri": "https://localhost:8080/"
        },
        "id": "XTdcj77c2vXC",
        "outputId": "e570959a-6902-481e-8eea-5ca31d800575"
      },
      "source": [
        "X_train.shape"
      ],
      "execution_count": 9,
      "outputs": [
        {
          "output_type": "execute_result",
          "data": {
            "text/plain": [
              "(455, 30)"
            ]
          },
          "metadata": {
            "tags": []
          },
          "execution_count": 9
        }
      ]
    },
    {
      "cell_type": "code",
      "metadata": {
        "colab": {
          "base_uri": "https://localhost:8080/",
          "height": 321
        },
        "id": "kU7Hhii__ev0",
        "outputId": "be2a0d7c-1461-4734-d91d-3a59688d005a"
      },
      "source": [
        "X_train.describe()"
      ],
      "execution_count": 15,
      "outputs": [
        {
          "output_type": "execute_result",
          "data": {
            "text/html": [
              "<div>\n",
              "<style scoped>\n",
              "    .dataframe tbody tr th:only-of-type {\n",
              "        vertical-align: middle;\n",
              "    }\n",
              "\n",
              "    .dataframe tbody tr th {\n",
              "        vertical-align: top;\n",
              "    }\n",
              "\n",
              "    .dataframe thead th {\n",
              "        text-align: right;\n",
              "    }\n",
              "</style>\n",
              "<table border=\"1\" class=\"dataframe\">\n",
              "  <thead>\n",
              "    <tr style=\"text-align: right;\">\n",
              "      <th></th>\n",
              "      <th>radius_mean</th>\n",
              "      <th>texture_mean</th>\n",
              "      <th>perimeter_mean</th>\n",
              "      <th>area_mean</th>\n",
              "      <th>smoothness_mean</th>\n",
              "      <th>compactness_mean</th>\n",
              "      <th>concavity_mean</th>\n",
              "      <th>concave points_mean</th>\n",
              "      <th>symmetry_mean</th>\n",
              "      <th>fractal_dimension_mean</th>\n",
              "      <th>radius_se</th>\n",
              "      <th>texture_se</th>\n",
              "      <th>perimeter_se</th>\n",
              "      <th>area_se</th>\n",
              "      <th>smoothness_se</th>\n",
              "      <th>compactness_se</th>\n",
              "      <th>concavity_se</th>\n",
              "      <th>concave points_se</th>\n",
              "      <th>symmetry_se</th>\n",
              "      <th>fractal_dimension_se</th>\n",
              "      <th>radius_worst</th>\n",
              "      <th>texture_worst</th>\n",
              "      <th>perimeter_worst</th>\n",
              "      <th>area_worst</th>\n",
              "      <th>smoothness_worst</th>\n",
              "      <th>compactness_worst</th>\n",
              "      <th>concavity_worst</th>\n",
              "      <th>concave points_worst</th>\n",
              "      <th>symmetry_worst</th>\n",
              "      <th>fractal_dimension_worst</th>\n",
              "    </tr>\n",
              "  </thead>\n",
              "  <tbody>\n",
              "    <tr>\n",
              "      <th>count</th>\n",
              "      <td>455.000000</td>\n",
              "      <td>455.000000</td>\n",
              "      <td>455.000000</td>\n",
              "      <td>455.000000</td>\n",
              "      <td>455.000000</td>\n",
              "      <td>455.000000</td>\n",
              "      <td>455.000000</td>\n",
              "      <td>455.000000</td>\n",
              "      <td>455.000000</td>\n",
              "      <td>455.000000</td>\n",
              "      <td>455.000000</td>\n",
              "      <td>455.000000</td>\n",
              "      <td>455.000000</td>\n",
              "      <td>455.000000</td>\n",
              "      <td>455.000000</td>\n",
              "      <td>455.000000</td>\n",
              "      <td>455.000000</td>\n",
              "      <td>455.000000</td>\n",
              "      <td>455.000000</td>\n",
              "      <td>455.000000</td>\n",
              "      <td>455.000000</td>\n",
              "      <td>455.000000</td>\n",
              "      <td>455.000000</td>\n",
              "      <td>455.000000</td>\n",
              "      <td>455.000000</td>\n",
              "      <td>455.000000</td>\n",
              "      <td>455.000000</td>\n",
              "      <td>455.000000</td>\n",
              "      <td>455.000000</td>\n",
              "      <td>455.000000</td>\n",
              "    </tr>\n",
              "    <tr>\n",
              "      <th>mean</th>\n",
              "      <td>14.117635</td>\n",
              "      <td>19.185033</td>\n",
              "      <td>91.882242</td>\n",
              "      <td>654.377582</td>\n",
              "      <td>0.095744</td>\n",
              "      <td>0.103619</td>\n",
              "      <td>0.088898</td>\n",
              "      <td>0.048280</td>\n",
              "      <td>0.181099</td>\n",
              "      <td>0.062757</td>\n",
              "      <td>0.402016</td>\n",
              "      <td>1.202687</td>\n",
              "      <td>2.858253</td>\n",
              "      <td>40.071299</td>\n",
              "      <td>0.006989</td>\n",
              "      <td>0.025635</td>\n",
              "      <td>0.032824</td>\n",
              "      <td>0.011894</td>\n",
              "      <td>0.020574</td>\n",
              "      <td>0.003820</td>\n",
              "      <td>16.235103</td>\n",
              "      <td>25.535692</td>\n",
              "      <td>107.103121</td>\n",
              "      <td>876.987033</td>\n",
              "      <td>0.131532</td>\n",
              "      <td>0.252742</td>\n",
              "      <td>0.274595</td>\n",
              "      <td>0.114182</td>\n",
              "      <td>0.290502</td>\n",
              "      <td>0.083868</td>\n",
              "    </tr>\n",
              "    <tr>\n",
              "      <th>std</th>\n",
              "      <td>3.535815</td>\n",
              "      <td>4.266005</td>\n",
              "      <td>24.322027</td>\n",
              "      <td>354.943187</td>\n",
              "      <td>0.013923</td>\n",
              "      <td>0.052470</td>\n",
              "      <td>0.079468</td>\n",
              "      <td>0.038060</td>\n",
              "      <td>0.027487</td>\n",
              "      <td>0.007210</td>\n",
              "      <td>0.283161</td>\n",
              "      <td>0.541747</td>\n",
              "      <td>2.071209</td>\n",
              "      <td>47.236319</td>\n",
              "      <td>0.003057</td>\n",
              "      <td>0.018607</td>\n",
              "      <td>0.032146</td>\n",
              "      <td>0.006294</td>\n",
              "      <td>0.008172</td>\n",
              "      <td>0.002787</td>\n",
              "      <td>4.811267</td>\n",
              "      <td>6.065108</td>\n",
              "      <td>33.374664</td>\n",
              "      <td>567.672841</td>\n",
              "      <td>0.023083</td>\n",
              "      <td>0.155014</td>\n",
              "      <td>0.209398</td>\n",
              "      <td>0.065326</td>\n",
              "      <td>0.063151</td>\n",
              "      <td>0.017848</td>\n",
              "    </tr>\n",
              "    <tr>\n",
              "      <th>min</th>\n",
              "      <td>7.691000</td>\n",
              "      <td>9.710000</td>\n",
              "      <td>47.920000</td>\n",
              "      <td>170.400000</td>\n",
              "      <td>0.052630</td>\n",
              "      <td>0.019380</td>\n",
              "      <td>0.000000</td>\n",
              "      <td>0.000000</td>\n",
              "      <td>0.116700</td>\n",
              "      <td>0.049960</td>\n",
              "      <td>0.111500</td>\n",
              "      <td>0.360200</td>\n",
              "      <td>0.757000</td>\n",
              "      <td>6.802000</td>\n",
              "      <td>0.001713</td>\n",
              "      <td>0.002252</td>\n",
              "      <td>0.000000</td>\n",
              "      <td>0.000000</td>\n",
              "      <td>0.007882</td>\n",
              "      <td>0.000895</td>\n",
              "      <td>8.678000</td>\n",
              "      <td>12.020000</td>\n",
              "      <td>54.490000</td>\n",
              "      <td>223.600000</td>\n",
              "      <td>0.071170</td>\n",
              "      <td>0.027290</td>\n",
              "      <td>0.000000</td>\n",
              "      <td>0.000000</td>\n",
              "      <td>0.156500</td>\n",
              "      <td>0.055040</td>\n",
              "    </tr>\n",
              "    <tr>\n",
              "      <th>25%</th>\n",
              "      <td>11.705000</td>\n",
              "      <td>16.170000</td>\n",
              "      <td>75.100000</td>\n",
              "      <td>420.300000</td>\n",
              "      <td>0.085825</td>\n",
              "      <td>0.062890</td>\n",
              "      <td>0.029320</td>\n",
              "      <td>0.020340</td>\n",
              "      <td>0.161850</td>\n",
              "      <td>0.057645</td>\n",
              "      <td>0.234800</td>\n",
              "      <td>0.834700</td>\n",
              "      <td>1.653000</td>\n",
              "      <td>18.170000</td>\n",
              "      <td>0.005076</td>\n",
              "      <td>0.012730</td>\n",
              "      <td>0.015120</td>\n",
              "      <td>0.007691</td>\n",
              "      <td>0.015210</td>\n",
              "      <td>0.002223</td>\n",
              "      <td>13.055000</td>\n",
              "      <td>21.045000</td>\n",
              "      <td>84.255000</td>\n",
              "      <td>516.450000</td>\n",
              "      <td>0.114400</td>\n",
              "      <td>0.144950</td>\n",
              "      <td>0.116550</td>\n",
              "      <td>0.063930</td>\n",
              "      <td>0.249500</td>\n",
              "      <td>0.071050</td>\n",
              "    </tr>\n",
              "    <tr>\n",
              "      <th>50%</th>\n",
              "      <td>13.300000</td>\n",
              "      <td>18.680000</td>\n",
              "      <td>85.980000</td>\n",
              "      <td>551.700000</td>\n",
              "      <td>0.094620</td>\n",
              "      <td>0.090970</td>\n",
              "      <td>0.061540</td>\n",
              "      <td>0.033410</td>\n",
              "      <td>0.179200</td>\n",
              "      <td>0.061480</td>\n",
              "      <td>0.323700</td>\n",
              "      <td>1.095000</td>\n",
              "      <td>2.287000</td>\n",
              "      <td>24.720000</td>\n",
              "      <td>0.006380</td>\n",
              "      <td>0.020420</td>\n",
              "      <td>0.026150</td>\n",
              "      <td>0.011100</td>\n",
              "      <td>0.018720</td>\n",
              "      <td>0.003211</td>\n",
              "      <td>14.970000</td>\n",
              "      <td>25.220000</td>\n",
              "      <td>97.670000</td>\n",
              "      <td>686.600000</td>\n",
              "      <td>0.130900</td>\n",
              "      <td>0.210100</td>\n",
              "      <td>0.226400</td>\n",
              "      <td>0.098610</td>\n",
              "      <td>0.282700</td>\n",
              "      <td>0.080060</td>\n",
              "    </tr>\n",
              "    <tr>\n",
              "      <th>75%</th>\n",
              "      <td>15.740000</td>\n",
              "      <td>21.585000</td>\n",
              "      <td>103.750000</td>\n",
              "      <td>767.600000</td>\n",
              "      <td>0.104550</td>\n",
              "      <td>0.131300</td>\n",
              "      <td>0.132350</td>\n",
              "      <td>0.073895</td>\n",
              "      <td>0.195800</td>\n",
              "      <td>0.066100</td>\n",
              "      <td>0.467750</td>\n",
              "      <td>1.439500</td>\n",
              "      <td>3.270500</td>\n",
              "      <td>43.725000</td>\n",
              "      <td>0.008069</td>\n",
              "      <td>0.032295</td>\n",
              "      <td>0.042565</td>\n",
              "      <td>0.014645</td>\n",
              "      <td>0.023220</td>\n",
              "      <td>0.004504</td>\n",
              "      <td>18.410000</td>\n",
              "      <td>29.690000</td>\n",
              "      <td>124.650000</td>\n",
              "      <td>1031.500000</td>\n",
              "      <td>0.146050</td>\n",
              "      <td>0.341600</td>\n",
              "      <td>0.387200</td>\n",
              "      <td>0.161100</td>\n",
              "      <td>0.317750</td>\n",
              "      <td>0.092070</td>\n",
              "    </tr>\n",
              "    <tr>\n",
              "      <th>max</th>\n",
              "      <td>28.110000</td>\n",
              "      <td>39.280000</td>\n",
              "      <td>188.500000</td>\n",
              "      <td>2501.000000</td>\n",
              "      <td>0.163400</td>\n",
              "      <td>0.311400</td>\n",
              "      <td>0.426800</td>\n",
              "      <td>0.201200</td>\n",
              "      <td>0.304000</td>\n",
              "      <td>0.097440</td>\n",
              "      <td>2.873000</td>\n",
              "      <td>4.885000</td>\n",
              "      <td>21.980000</td>\n",
              "      <td>542.200000</td>\n",
              "      <td>0.031130</td>\n",
              "      <td>0.135400</td>\n",
              "      <td>0.396000</td>\n",
              "      <td>0.052790</td>\n",
              "      <td>0.061460</td>\n",
              "      <td>0.029840</td>\n",
              "      <td>36.040000</td>\n",
              "      <td>49.540000</td>\n",
              "      <td>251.200000</td>\n",
              "      <td>4254.000000</td>\n",
              "      <td>0.218400</td>\n",
              "      <td>0.937900</td>\n",
              "      <td>1.252000</td>\n",
              "      <td>0.291000</td>\n",
              "      <td>0.663800</td>\n",
              "      <td>0.173000</td>\n",
              "    </tr>\n",
              "  </tbody>\n",
              "</table>\n",
              "</div>"
            ],
            "text/plain": [
              "       radius_mean  texture_mean  ...  symmetry_worst  fractal_dimension_worst\n",
              "count   455.000000    455.000000  ...      455.000000               455.000000\n",
              "mean     14.117635     19.185033  ...        0.290502                 0.083868\n",
              "std       3.535815      4.266005  ...        0.063151                 0.017848\n",
              "min       7.691000      9.710000  ...        0.156500                 0.055040\n",
              "25%      11.705000     16.170000  ...        0.249500                 0.071050\n",
              "50%      13.300000     18.680000  ...        0.282700                 0.080060\n",
              "75%      15.740000     21.585000  ...        0.317750                 0.092070\n",
              "max      28.110000     39.280000  ...        0.663800                 0.173000\n",
              "\n",
              "[8 rows x 30 columns]"
            ]
          },
          "metadata": {
            "tags": []
          },
          "execution_count": 15
        }
      ]
    },
    {
      "cell_type": "code",
      "metadata": {
        "colab": {
          "base_uri": "https://localhost:8080/",
          "height": 321
        },
        "id": "mRvVUqtw80rn",
        "outputId": "453a2b03-eb27-497f-d62a-6b69b00b4c46"
      },
      "source": [
        "X_test.describe()"
      ],
      "execution_count": 30,
      "outputs": [
        {
          "output_type": "execute_result",
          "data": {
            "text/html": [
              "<div>\n",
              "<style scoped>\n",
              "    .dataframe tbody tr th:only-of-type {\n",
              "        vertical-align: middle;\n",
              "    }\n",
              "\n",
              "    .dataframe tbody tr th {\n",
              "        vertical-align: top;\n",
              "    }\n",
              "\n",
              "    .dataframe thead th {\n",
              "        text-align: right;\n",
              "    }\n",
              "</style>\n",
              "<table border=\"1\" class=\"dataframe\">\n",
              "  <thead>\n",
              "    <tr style=\"text-align: right;\">\n",
              "      <th></th>\n",
              "      <th>radius_mean</th>\n",
              "      <th>texture_mean</th>\n",
              "      <th>perimeter_mean</th>\n",
              "      <th>area_mean</th>\n",
              "      <th>smoothness_mean</th>\n",
              "      <th>compactness_mean</th>\n",
              "      <th>concavity_mean</th>\n",
              "      <th>concave points_mean</th>\n",
              "      <th>symmetry_mean</th>\n",
              "      <th>fractal_dimension_mean</th>\n",
              "      <th>radius_se</th>\n",
              "      <th>texture_se</th>\n",
              "      <th>perimeter_se</th>\n",
              "      <th>area_se</th>\n",
              "      <th>smoothness_se</th>\n",
              "      <th>compactness_se</th>\n",
              "      <th>concavity_se</th>\n",
              "      <th>concave points_se</th>\n",
              "      <th>symmetry_se</th>\n",
              "      <th>fractal_dimension_se</th>\n",
              "      <th>radius_worst</th>\n",
              "      <th>texture_worst</th>\n",
              "      <th>perimeter_worst</th>\n",
              "      <th>area_worst</th>\n",
              "      <th>smoothness_worst</th>\n",
              "      <th>compactness_worst</th>\n",
              "      <th>concavity_worst</th>\n",
              "      <th>concave points_worst</th>\n",
              "      <th>symmetry_worst</th>\n",
              "      <th>fractal_dimension_worst</th>\n",
              "    </tr>\n",
              "  </thead>\n",
              "  <tbody>\n",
              "    <tr>\n",
              "      <th>count</th>\n",
              "      <td>114.000000</td>\n",
              "      <td>114.000000</td>\n",
              "      <td>114.000000</td>\n",
              "      <td>114.000000</td>\n",
              "      <td>114.000000</td>\n",
              "      <td>114.000000</td>\n",
              "      <td>114.000000</td>\n",
              "      <td>114.000000</td>\n",
              "      <td>114.000000</td>\n",
              "      <td>114.000000</td>\n",
              "      <td>114.000000</td>\n",
              "      <td>114.000000</td>\n",
              "      <td>114.000000</td>\n",
              "      <td>114.000000</td>\n",
              "      <td>114.000000</td>\n",
              "      <td>114.000000</td>\n",
              "      <td>114.000000</td>\n",
              "      <td>114.000000</td>\n",
              "      <td>114.000000</td>\n",
              "      <td>114.000000</td>\n",
              "      <td>114.000000</td>\n",
              "      <td>114.000000</td>\n",
              "      <td>114.000000</td>\n",
              "      <td>114.000000</td>\n",
              "      <td>114.000000</td>\n",
              "      <td>114.000000</td>\n",
              "      <td>114.000000</td>\n",
              "      <td>114.000000</td>\n",
              "      <td>114.000000</td>\n",
              "      <td>114.000000</td>\n",
              "    </tr>\n",
              "    <tr>\n",
              "      <th>mean</th>\n",
              "      <td>14.165833</td>\n",
              "      <td>19.707193</td>\n",
              "      <td>92.315439</td>\n",
              "      <td>656.930702</td>\n",
              "      <td>0.098820</td>\n",
              "      <td>0.107221</td>\n",
              "      <td>0.088405</td>\n",
              "      <td>0.051471</td>\n",
              "      <td>0.181414</td>\n",
              "      <td>0.062961</td>\n",
              "      <td>0.417769</td>\n",
              "      <td>1.273396</td>\n",
              "      <td>2.897214</td>\n",
              "      <td>41.397868</td>\n",
              "      <td>0.007248</td>\n",
              "      <td>0.024850</td>\n",
              "      <td>0.028182</td>\n",
              "      <td>0.011406</td>\n",
              "      <td>0.020418</td>\n",
              "      <td>0.003693</td>\n",
              "      <td>16.405237</td>\n",
              "      <td>26.242105</td>\n",
              "      <td>107.892193</td>\n",
              "      <td>894.935965</td>\n",
              "      <td>0.135707</td>\n",
              "      <td>0.260345</td>\n",
              "      <td>0.262585</td>\n",
              "      <td>0.116299</td>\n",
              "      <td>0.288373</td>\n",
              "      <td>0.084257</td>\n",
              "    </tr>\n",
              "    <tr>\n",
              "      <th>std</th>\n",
              "      <td>3.491876</td>\n",
              "      <td>4.432655</td>\n",
              "      <td>24.310746</td>\n",
              "      <td>341.074645</td>\n",
              "      <td>0.014415</td>\n",
              "      <td>0.054297</td>\n",
              "      <td>0.081070</td>\n",
              "      <td>0.041715</td>\n",
              "      <td>0.027240</td>\n",
              "      <td>0.006457</td>\n",
              "      <td>0.253404</td>\n",
              "      <td>0.588617</td>\n",
              "      <td>1.819679</td>\n",
              "      <td>37.896019</td>\n",
              "      <td>0.002778</td>\n",
              "      <td>0.014851</td>\n",
              "      <td>0.020277</td>\n",
              "      <td>0.005658</td>\n",
              "      <td>0.008669</td>\n",
              "      <td>0.001993</td>\n",
              "      <td>4.939138</td>\n",
              "      <td>6.456743</td>\n",
              "      <td>34.640172</td>\n",
              "      <td>578.333677</td>\n",
              "      <td>0.021581</td>\n",
              "      <td>0.166857</td>\n",
              "      <td>0.206139</td>\n",
              "      <td>0.067596</td>\n",
              "      <td>0.056683</td>\n",
              "      <td>0.018967</td>\n",
              "    </tr>\n",
              "    <tr>\n",
              "      <th>min</th>\n",
              "      <td>6.981000</td>\n",
              "      <td>10.940000</td>\n",
              "      <td>43.790000</td>\n",
              "      <td>143.500000</td>\n",
              "      <td>0.068280</td>\n",
              "      <td>0.035580</td>\n",
              "      <td>0.000000</td>\n",
              "      <td>0.000000</td>\n",
              "      <td>0.106000</td>\n",
              "      <td>0.052660</td>\n",
              "      <td>0.116600</td>\n",
              "      <td>0.480100</td>\n",
              "      <td>0.771400</td>\n",
              "      <td>8.955000</td>\n",
              "      <td>0.003308</td>\n",
              "      <td>0.005656</td>\n",
              "      <td>0.000000</td>\n",
              "      <td>0.000000</td>\n",
              "      <td>0.010540</td>\n",
              "      <td>0.001219</td>\n",
              "      <td>7.930000</td>\n",
              "      <td>12.490000</td>\n",
              "      <td>50.410000</td>\n",
              "      <td>185.200000</td>\n",
              "      <td>0.087990</td>\n",
              "      <td>0.054940</td>\n",
              "      <td>0.000000</td>\n",
              "      <td>0.000000</td>\n",
              "      <td>0.156600</td>\n",
              "      <td>0.059050</td>\n",
              "    </tr>\n",
              "    <tr>\n",
              "      <th>25%</th>\n",
              "      <td>11.687500</td>\n",
              "      <td>16.217500</td>\n",
              "      <td>75.225000</td>\n",
              "      <td>418.625000</td>\n",
              "      <td>0.088967</td>\n",
              "      <td>0.069655</td>\n",
              "      <td>0.030052</td>\n",
              "      <td>0.019842</td>\n",
              "      <td>0.163175</td>\n",
              "      <td>0.058427</td>\n",
              "      <td>0.224350</td>\n",
              "      <td>0.827450</td>\n",
              "      <td>1.593250</td>\n",
              "      <td>16.822500</td>\n",
              "      <td>0.005359</td>\n",
              "      <td>0.014105</td>\n",
              "      <td>0.014887</td>\n",
              "      <td>0.007599</td>\n",
              "      <td>0.014620</td>\n",
              "      <td>0.002328</td>\n",
              "      <td>12.850000</td>\n",
              "      <td>21.260000</td>\n",
              "      <td>84.012500</td>\n",
              "      <td>505.750000</td>\n",
              "      <td>0.121975</td>\n",
              "      <td>0.150850</td>\n",
              "      <td>0.102495</td>\n",
              "      <td>0.069250</td>\n",
              "      <td>0.251600</td>\n",
              "      <td>0.072400</td>\n",
              "    </tr>\n",
              "    <tr>\n",
              "      <th>50%</th>\n",
              "      <td>13.465000</td>\n",
              "      <td>19.535000</td>\n",
              "      <td>87.380000</td>\n",
              "      <td>548.700000</td>\n",
              "      <td>0.099085</td>\n",
              "      <td>0.097565</td>\n",
              "      <td>0.062960</td>\n",
              "      <td>0.033950</td>\n",
              "      <td>0.179400</td>\n",
              "      <td>0.061580</td>\n",
              "      <td>0.330150</td>\n",
              "      <td>1.140000</td>\n",
              "      <td>2.290500</td>\n",
              "      <td>23.210000</td>\n",
              "      <td>0.006385</td>\n",
              "      <td>0.020690</td>\n",
              "      <td>0.022365</td>\n",
              "      <td>0.010235</td>\n",
              "      <td>0.018785</td>\n",
              "      <td>0.003118</td>\n",
              "      <td>14.945000</td>\n",
              "      <td>25.790000</td>\n",
              "      <td>97.155000</td>\n",
              "      <td>681.200000</td>\n",
              "      <td>0.135850</td>\n",
              "      <td>0.215550</td>\n",
              "      <td>0.228450</td>\n",
              "      <td>0.101500</td>\n",
              "      <td>0.280850</td>\n",
              "      <td>0.079750</td>\n",
              "    </tr>\n",
              "    <tr>\n",
              "      <th>75%</th>\n",
              "      <td>16.057500</td>\n",
              "      <td>22.675000</td>\n",
              "      <td>105.300000</td>\n",
              "      <td>806.800000</td>\n",
              "      <td>0.106950</td>\n",
              "      <td>0.127800</td>\n",
              "      <td>0.119300</td>\n",
              "      <td>0.072968</td>\n",
              "      <td>0.193925</td>\n",
              "      <td>0.066405</td>\n",
              "      <td>0.550525</td>\n",
              "      <td>1.526000</td>\n",
              "      <td>3.683250</td>\n",
              "      <td>51.992500</td>\n",
              "      <td>0.008606</td>\n",
              "      <td>0.032290</td>\n",
              "      <td>0.039790</td>\n",
              "      <td>0.014898</td>\n",
              "      <td>0.024137</td>\n",
              "      <td>0.004568</td>\n",
              "      <td>19.695000</td>\n",
              "      <td>30.042500</td>\n",
              "      <td>129.175000</td>\n",
              "      <td>1211.000000</td>\n",
              "      <td>0.145175</td>\n",
              "      <td>0.316275</td>\n",
              "      <td>0.369850</td>\n",
              "      <td>0.166950</td>\n",
              "      <td>0.318925</td>\n",
              "      <td>0.092120</td>\n",
              "    </tr>\n",
              "    <tr>\n",
              "      <th>max</th>\n",
              "      <td>25.220000</td>\n",
              "      <td>31.120000</td>\n",
              "      <td>171.500000</td>\n",
              "      <td>1878.000000</td>\n",
              "      <td>0.137100</td>\n",
              "      <td>0.345400</td>\n",
              "      <td>0.375400</td>\n",
              "      <td>0.184500</td>\n",
              "      <td>0.290600</td>\n",
              "      <td>0.082430</td>\n",
              "      <td>1.291000</td>\n",
              "      <td>3.896000</td>\n",
              "      <td>9.635000</td>\n",
              "      <td>199.700000</td>\n",
              "      <td>0.015460</td>\n",
              "      <td>0.072170</td>\n",
              "      <td>0.109100</td>\n",
              "      <td>0.028530</td>\n",
              "      <td>0.078950</td>\n",
              "      <td>0.011300</td>\n",
              "      <td>32.490000</td>\n",
              "      <td>47.160000</td>\n",
              "      <td>214.000000</td>\n",
              "      <td>3432.000000</td>\n",
              "      <td>0.222600</td>\n",
              "      <td>1.058000</td>\n",
              "      <td>1.105000</td>\n",
              "      <td>0.286700</td>\n",
              "      <td>0.544000</td>\n",
              "      <td>0.207500</td>\n",
              "    </tr>\n",
              "  </tbody>\n",
              "</table>\n",
              "</div>"
            ],
            "text/plain": [
              "       radius_mean  texture_mean  ...  symmetry_worst  fractal_dimension_worst\n",
              "count   114.000000    114.000000  ...      114.000000               114.000000\n",
              "mean     14.165833     19.707193  ...        0.288373                 0.084257\n",
              "std       3.491876      4.432655  ...        0.056683                 0.018967\n",
              "min       6.981000     10.940000  ...        0.156600                 0.059050\n",
              "25%      11.687500     16.217500  ...        0.251600                 0.072400\n",
              "50%      13.465000     19.535000  ...        0.280850                 0.079750\n",
              "75%      16.057500     22.675000  ...        0.318925                 0.092120\n",
              "max      25.220000     31.120000  ...        0.544000                 0.207500\n",
              "\n",
              "[8 rows x 30 columns]"
            ]
          },
          "metadata": {
            "tags": []
          },
          "execution_count": 30
        }
      ]
    },
    {
      "cell_type": "code",
      "metadata": {
        "id": "gHS1UwBd2VaQ"
      },
      "source": [
        "from keras.models import Sequential\n",
        "from keras.layers import Dense"
      ],
      "execution_count": 36,
      "outputs": []
    },
    {
      "cell_type": "code",
      "metadata": {
        "id": "e0mrArw42gHH"
      },
      "source": [
        "classifier = Sequential()\n",
        "classifier.add(Dense(units=16, activation='relu', input_dim=30))\n",
        "classifier.add(Dense(units=8, activation='relu'))\n",
        "classifier.add(Dense(units=6, activation='relu'))\n",
        "classifier.add(Dense(units=1, activation='sigmoid'))"
      ],
      "execution_count": 52,
      "outputs": []
    },
    {
      "cell_type": "code",
      "metadata": {
        "id": "i6kZUSXc3EpG"
      },
      "source": [
        "classifier.compile(optimizer='rmsprop',loss='binary_crossentropy')"
      ],
      "execution_count": 53,
      "outputs": []
    },
    {
      "cell_type": "code",
      "metadata": {
        "id": "AOUfrYImB2sv"
      },
      "source": [
        ""
      ],
      "execution_count": null,
      "outputs": []
    },
    {
      "cell_type": "code",
      "metadata": {
        "colab": {
          "base_uri": "https://localhost:8080/"
        },
        "id": "awQpkZ_W3QD4",
        "outputId": "f3745709-a5b8-40a2-8a68-724a1875d459"
      },
      "source": [
        "classifier.fit(X_train, y_train, epochs=10, batch_size=1)"
      ],
      "execution_count": 54,
      "outputs": [
        {
          "output_type": "stream",
          "text": [
            "Epoch 1/10\n",
            "455/455 [==============================] - 1s 822us/step - loss: 1.3007\n",
            "Epoch 2/10\n",
            "455/455 [==============================] - 0s 812us/step - loss: 0.4361\n",
            "Epoch 3/10\n",
            "455/455 [==============================] - 0s 841us/step - loss: 0.3429\n",
            "Epoch 4/10\n",
            "455/455 [==============================] - 0s 812us/step - loss: 0.3822\n",
            "Epoch 5/10\n",
            "455/455 [==============================] - 0s 823us/step - loss: 0.3295\n",
            "Epoch 6/10\n",
            "455/455 [==============================] - 0s 803us/step - loss: 0.2731\n",
            "Epoch 7/10\n",
            "455/455 [==============================] - 0s 826us/step - loss: 0.3556\n",
            "Epoch 8/10\n",
            "455/455 [==============================] - 0s 811us/step - loss: 0.3276\n",
            "Epoch 9/10\n",
            "455/455 [==============================] - 0s 882us/step - loss: 0.3004\n",
            "Epoch 10/10\n",
            "455/455 [==============================] - 0s 841us/step - loss: 0.2976\n"
          ],
          "name": "stdout"
        },
        {
          "output_type": "execute_result",
          "data": {
            "text/plain": [
              "<tensorflow.python.keras.callbacks.History at 0x7fe32c7b7510>"
            ]
          },
          "metadata": {
            "tags": []
          },
          "execution_count": 54
        }
      ]
    },
    {
      "cell_type": "code",
      "metadata": {
        "colab": {
          "base_uri": "https://localhost:8080/"
        },
        "id": "tbIaG6HcFWCn",
        "outputId": "8936db60-b91d-4672-ac1a-7704d38fcd26"
      },
      "source": [
        "y_test[10]"
      ],
      "execution_count": 67,
      "outputs": [
        {
          "output_type": "execute_result",
          "data": {
            "text/plain": [
              "1"
            ]
          },
          "metadata": {
            "tags": []
          },
          "execution_count": 67
        }
      ]
    },
    {
      "cell_type": "code",
      "metadata": {
        "id": "ooReFbgvDZVs"
      },
      "source": [
        "y_pred = classifier.predict(X_test)\n",
        "y_pred = [1 if y > 0.6 else 0 for y in y_pred]"
      ],
      "execution_count": 55,
      "outputs": []
    },
    {
      "cell_type": "code",
      "metadata": {
        "id": "XkhOUqGMIHgS"
      },
      "source": [
        "cnt = len(y_pred)"
      ],
      "execution_count": 83,
      "outputs": []
    },
    {
      "cell_type": "code",
      "metadata": {
        "colab": {
          "base_uri": "https://localhost:8080/"
        },
        "id": "w2avlvbNIM_3",
        "outputId": "88439687-3c9b-44e7-b582-96a6949402ae"
      },
      "source": [
        "cnt"
      ],
      "execution_count": 84,
      "outputs": [
        {
          "output_type": "execute_result",
          "data": {
            "text/plain": [
              "114"
            ]
          },
          "metadata": {
            "tags": []
          },
          "execution_count": 84
        }
      ]
    },
    {
      "cell_type": "code",
      "metadata": {
        "colab": {
          "base_uri": "https://localhost:8080/"
        },
        "id": "pI4RKsW9GK7o",
        "outputId": "5e735d7c-2fc4-47e7-c4ef-42317e73b77f"
      },
      "source": [
        "sum(y_test == y_pred)"
      ],
      "execution_count": 97,
      "outputs": [
        {
          "output_type": "execute_result",
          "data": {
            "text/plain": [
              "108"
            ]
          },
          "metadata": {
            "tags": []
          },
          "execution_count": 97
        }
      ]
    },
    {
      "cell_type": "code",
      "metadata": {
        "colab": {
          "base_uri": "https://localhost:8080/"
        },
        "id": "wuklqaC4In5x",
        "outputId": "c2c73979-1ff1-45eb-c498-e6f813662f34"
      },
      "source": [
        "sum(y_test != y_pred)"
      ],
      "execution_count": 98,
      "outputs": [
        {
          "output_type": "execute_result",
          "data": {
            "text/plain": [
              "6"
            ]
          },
          "metadata": {
            "tags": []
          },
          "execution_count": 98
        }
      ]
    },
    {
      "cell_type": "code",
      "metadata": {
        "id": "rnZPyvWpDtzg"
      },
      "source": [
        ""
      ],
      "execution_count": 98,
      "outputs": []
    }
  ]
}